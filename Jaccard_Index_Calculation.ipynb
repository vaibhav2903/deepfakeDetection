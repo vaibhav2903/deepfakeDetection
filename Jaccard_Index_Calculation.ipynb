{
  "nbformat": 4,
  "nbformat_minor": 0,
  "metadata": {
    "colab": {
      "provenance": [],
      "authorship_tag": "ABX9TyPl295Ukhdb4fhJPJxgdOnD",
      "include_colab_link": true
    },
    "kernelspec": {
      "name": "python3",
      "display_name": "Python 3"
    },
    "language_info": {
      "name": "python"
    }
  },
  "cells": [
    {
      "cell_type": "markdown",
      "metadata": {
        "id": "view-in-github",
        "colab_type": "text"
      },
      "source": [
        "<a href=\"https://colab.research.google.com/github/vaibhav2903/deepfakeDetection/blob/main/Jaccard_Index_Calculation.ipynb\" target=\"_parent\"><img src=\"https://colab.research.google.com/assets/colab-badge.svg\" alt=\"Open In Colab\"/></a>"
      ]
    },
    {
      "cell_type": "code",
      "execution_count": null,
      "metadata": {
        "id": "R_DG_X_TosGW"
      },
      "outputs": [],
      "source": [
        "import numpy as np\n",
        "\n",
        "def jaccard_index(image1, image2):\n",
        "    \"\"\"\n",
        "    Calculate the Jaccard Index, a measure of similarity between two binary images.\n",
        "\n",
        "    Parameters:\n",
        "    image1 (numpy.ndarray): First binary image.\n",
        "    image2 (numpy.ndarray): Second binary image.\n",
        "\n",
        "    Returns:\n",
        "    float: Jaccard Index between the two images.\n",
        "    \"\"\"\n",
        "    # Ensure the images are binary (0 and 1)\n",
        "    image1 = np.where(image1 > 0, 1, 0)\n",
        "    image2 = np.where(image2 > 0, 1, 0)\n",
        "\n",
        "    # Flatten the images to treat them as sets\n",
        "    flat_image1 = image1.flatten()\n",
        "    flat_image2 = image2.flatten()\n",
        "\n",
        "    # Calculate the intersection and union\n",
        "    intersection = np.sum(np.logical_and(flat_image1, flat_image2))\n",
        "    union = np.sum(np.logical_or(flat_image1, flat_image2))\n",
        "\n",
        "    # Compute the Jaccard index\n",
        "    return intersection / union if union != 0 else 0"
      ]
    },
    {
      "cell_type": "code",
      "source": [],
      "metadata": {
        "id": "HIAaDl2Jo1e3"
      },
      "execution_count": null,
      "outputs": []
    }
  ]
}